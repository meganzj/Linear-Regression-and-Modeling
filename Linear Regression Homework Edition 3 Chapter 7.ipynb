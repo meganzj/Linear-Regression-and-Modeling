{
 "cells": [
  {
   "cell_type": "markdown",
   "id": "b40381fa",
   "metadata": {},
   "source": [
    "Relationship between two numerical variables: 7.1, 7.3, 7.7, 7.9, 7.11, 7.13, 7.15"
   ]
  },
  {
   "cell_type": "markdown",
   "id": "de24b6c3",
   "metadata": {},
   "source": [
    "**7.1 Visualize the residuals.** The scatterplots shown below each have a superimposed regression line. If we were to construct a residual plot (residuals versus x) for each, describe what those plots would look like.  \n",
    "**Ans:**  \n",
    "plot(a) would have random points spreed across the middle line and most of the points will be stay relatively close to the middle line.  \n",
    "plot(b) would also have points spreed across the middle line, however, the points would be more spreed out and start to gather closer to the middle line as x increase. \n"
   ]
  },
  {
   "cell_type": "markdown",
   "id": "8bccd693",
   "metadata": {},
   "source": [
    "**7.3 Identify relationships, Part I.** For each of the six plots, identify the strength of the relationship (e.g. weak, moderate, or strong) in the data and whether fitting a linear model would be reasonable.  \n",
    "**Ans:**  \n",
    "a. strong relationship, but linear model would not be reasonable.  \n",
    "b. strong relationship, linear model is reasonable.  \n",
    "c. weak relationship, linear model could be an option. \n",
    "d. moderate relationship, linear model would not be reasonable.  \n",
    "e. strong relationship, linear model is reasonable.  \n",
    "f. weak relationship, linear model could be an option to try.  "
   ]
  },
  {
   "cell_type": "markdown",
   "id": "f6ecaac9",
   "metadata": {},
   "source": [
    "**7.7 Match the correlation, Part I.** Match the calculated correlations to the corresponding scatterplot.  \n",
    "**Ans:**  \n",
    "a -> 4. \n",
    "b -> 3. \n",
    "c -> 1. \n",
    "d -> 2"
   ]
  },
  {
   "cell_type": "markdown",
   "id": "39203430",
   "metadata": {},
   "source": [
    "**7.9 True / False.** Determine if the following statements are true or false. If false, explain why.  \n",
    "A correlation coefficient of -0.90 indicates a stronger linear relationship than a correlation coefficient of 0.5. **True**.   \n",
    "Correlation is a measure of the association between any two variables.  **False. it measures linear relationship between two numerical variables**"
   ]
  },
  {
   "cell_type": "markdown",
   "id": "ed8bce95",
   "metadata": {},
   "source": [
    "**7.11 Speed and height.** 1,302 UCLA students were asked to fill out a survey where they were asked about their height, fastest speed they have ever driven, and gender. The scatterplot on the left displays the relationship between height and fastest speed, and the scatterplot on the right displays the breakdown by gender in this relationship.  \n",
    "**Ans:**  \n",
    "(a) Describe the relationship between height and fastest speed.   \n",
    "a moderate positive linear relationship between height and fastest speed.  \n",
    "\n",
    "(b) Why do you think these variables are positively associated?  \n",
    "the fastest speed tends to be higher as Height increases.  \n",
    "\n",
    "(c) What role does gender play in the relationship between height and fastest driving speed?  \n",
    "male tend to drive faster than female, who also tend to be taller. the different tendency between gender in speed is a more reasonable explaination as compared to purely associating height with driving speed."
   ]
  },
  {
   "cell_type": "markdown",
   "id": "9874c201",
   "metadata": {},
   "source": [
    "**7.13 The Coast Starlight, Part I.** The Coast Starlight Amtrak train runs from Seattle to Los Angeles. The scatterplot below displays the distance between each stop (in miles) and the amount of time it takes to travel from one stop to another (in minutes).  \n",
    "**Ans:**  \n",
    "(a) Describe the relationship between distance and travel time.  \n",
    "moderate positive linear relationship  \n",
    "\n",
    "(b) How would the relationship change if travel time was instead measured in hours, and distance was instead measured in kilometers?  \n",
    "the relationship would not change with the change of unit in variables in correlation coefficient.  \n",
    "\n",
    "(c) Correlation between travel time (in miles) and distance (in minutes) is r = 0.636. What is the correlation\n",
    "between travel time (in kilometers) 60 and distance (in hours)?    \n",
    "0.636"
   ]
  },
  {
   "cell_type": "markdown",
   "id": "08239e89",
   "metadata": {},
   "source": [
    "**7.15 Body measurements, Part I.** Researchers studying anthropometry collected body girth measurements and skeletal diameter measurements, as well as age, weight, height and gender for 507 physically active individuals.19 The scatterplot below shows the relationship between height and shoulder girth (over deltoid muscles), both measured in centimeters.  \n",
    "\n",
    "**Ans:**  \n",
    "(a) Describe the relationship between shoulder girth and height.  \n",
    "positive linear relationship. \n",
    "\n",
    "(b) How would the relationship change if shoulder girth was measured in inches while the units of height remained in centimeters?  \n",
    "won't change the relationship.  "
   ]
  },
  {
   "cell_type": "markdown",
   "id": "ba3b5ccf",
   "metadata": {},
   "source": [
    "A teaching assistant gives a quiz. There are 10 questions on the quiz and no partial credit is given. After grading the papers the TA writes down for each student the number of questions the student got right and the number wrong. What is the correlation of the number of questions right and wrong? Hint: Make up some data for number of questions right, calculate number of questions wrong, and plot them against each other.   \n",
    "\n",
    "**Ans:** \n",
    "R = -1, strong negative linear relationship."
   ]
  },
  {
   "cell_type": "markdown",
   "id": "64b14a7f",
   "metadata": {},
   "source": [
    "Suppose you fit a linear regression model predicting score on an exam from number of hours studied. Say you've studied for 4 hours. Would you prefer to be on the line, below the line, or above the line? What would the residual for your score be (0, negative, or positive)?  \n",
    "**Ans:** \n",
    "I would prefer to be above the line, which indicates my score is higher than the average score of people who study the same hours as I am. my residual would be positive, the linear line would underestimate my score. "
   ]
  },
  {
   "cell_type": "markdown",
   "id": "5ee699ff",
   "metadata": {},
   "source": [
    "Someone hands you the scatter diagram shown below, but has forgotten to label the axes. Can you calculate the correlation coefficient? Or do you need the labels?   \n",
    "**Ans:**   \n",
    "i can calculate the correlation coefficient without the labe of axes.  "
   ]
  },
  {
   "cell_type": "markdown",
   "id": "f5d72484",
   "metadata": {},
   "source": [
    "We would not want to fit a least squares line to the data shown in the scatterplot below. Which of the conditions does it appear to violate?   \n",
    "**Ans:** \n",
    "if we fit a least squares line, the data do not have constant varibility around the fitted line.  "
   ]
  },
  {
   "cell_type": "markdown",
   "id": "03e29acf",
   "metadata": {},
   "source": [
    "One study on male college students found their average height to be 70 inches with a standard deviation of 2 inches. Their average weight was 140 pounds, with a standard deviation of 25 pounds. The correlation between their height and weight was 0.60. Assuming that the two variables are linearly associated, write the linear model for predicting weight from height.    \n",
    "**Ans:**   \n",
    "$$b_1 = \\frac{s_y}{s_x}R = frac{25}{2}0.6 = 7.5$$\n",
    "$$b_0 = \\bar{y} - b_1*\\bar{x} = 140 - 7.5*70 = -385$$"
   ]
  },
  {
   "cell_type": "code",
   "execution_count": 5,
   "id": "085b6f28",
   "metadata": {},
   "outputs": [
    {
     "name": "stdout",
     "output_type": "stream",
     "text": [
      "[-385.0, 7.5]\n"
     ]
    }
   ],
   "source": [
    "r = 0.6\n",
    "s_x = 2\n",
    "s_y = 25\n",
    "b1 = s_y/s_x*r\n",
    "x_bar = 70\n",
    "y_bar = 140\n",
    "b0 = y_bar - b1 * x_bar\n",
    "print([b0,b1])"
   ]
  },
  {
   "cell_type": "markdown",
   "id": "23762df7",
   "metadata": {},
   "source": [
    "Is a male who is 72 inches tall and who weighs 115 pounds on the line, below the line, or above the line?  \n",
    "**Ans:**  \n",
    "$$\\hat{weight} = -385 + 7.5 * height$$\n",
    "$$\\hat{y} = -385+7.5*72 = 155$$. \n",
    "overestimate, the data point is below the line."
   ]
  },
  {
   "cell_type": "code",
   "execution_count": 6,
   "id": "b98222a4",
   "metadata": {},
   "outputs": [
    {
     "data": {
      "text/plain": [
       "-40.0"
      ]
     },
     "execution_count": 6,
     "metadata": {},
     "output_type": "execute_result"
    }
   ],
   "source": [
    "y_hat = -385+7.5*72\n",
    "y_obs = 115\n",
    "y_obs - y_hat"
   ]
  },
  {
   "cell_type": "markdown",
   "id": "75100073",
   "metadata": {},
   "source": [
    "Describe what is an indicator variable, and what levels 0 and 1 mean for such variables.  \n",
    "**Ans:**  \n",
    "indicator variable is a numerical conversion of categorical variables in the linear regression mode. with two level categorical variable, one level would be converted to 0, the other would be 1. 0 would be the reference level and not be present in the regression model.  the coefficient associated with the indicator variable (1) is interprated as the average difference in y when the indicator variable is 1 relative to when indicator variable is 0. "
   ]
  },
  {
   "cell_type": "markdown",
   "id": "8b14dbd4",
   "metadata": {},
   "source": [
    "If the correlation between two variables y and x is 0.6, what percent of the variability in y does x explain?  \n",
    "**Ans:**  \n",
    "r = 0.6\n",
    "$R^2 = 0.6*0.6=0.36$. \n",
    "36% of variability in y is explained by x."
   ]
  },
  {
   "cell_type": "markdown",
   "id": "a5a03d89",
   "metadata": {},
   "source": [
    "The model below predicts GPA based on an indicator variable (0: not premed, 1: premed). Interpret the intercept and slope estimates in context of the data.</em>\n",
    "$$\\hat{gpa} = 3.57-0.01 \\times premed$$\n",
    "**Ans:**  the average GPA for not premed student is 3.57,  the average GPA for premed student is 3.56. So the daverage difference in GPA between premed and not premed student is -0.01."
   ]
  },
  {
   "cell_type": "markdown",
   "id": "730b1e7f",
   "metadata": {},
   "source": [
    "Inference for linear regression: 7.25, 7.37, 7.39, 7.41, 7.43"
   ]
  },
  {
   "cell_type": "markdown",
   "id": "a627dccc",
   "metadata": {},
   "source": [
    "**7.25 The Coast Starlight, Part II.** Exercise 7.13 introduces data on the Coast Starlight Amtrak train that runs from Seattle to Los Angeles. The mean travel time from one stop to the next on the Coast Starlight is 129 mins, with a standard deviation of 113 minutes. The mean distance traveled from one stop to the next is 108 miles with a standard deviation of 99 miles. The correlation between travel time and distance is 0.636.  \n",
    "(a) Write the equation of the regression line for predicting travel time.  \n",
    "**Ans:**  \n",
    "$\\hat{travel\\;time} = 50.60 + 0.73 \\times travel\\;distance\\;in\\;miles$.   \n",
    "\n",
    "(b) Interpret the slope and the intercept in this context.  \n",
    "**Ans:**  \n",
    "slope: for every one additional mile, the expected travel time increases by 0.73 minutes.  \n",
    "intercept: b0 dont have a real meaning in this context, as if the travel distance is 0 miles, we would not expect any travel time. here, it serves as the height of the line.    \n",
    "\n",
    "(c) Calculate R2 of the regression line for predicting travel time from distance traveled for the Coast Starlight, and interpret R2 in the context of the application.  \n",
    "**Ans:**    \n",
    "$R^2 = 0.4045$, 40.45% varibility in travel time is explained by travel distance.    \n",
    "\n",
    "(d) The distance between Santa Barbara and Los Angeles is 103 miles. Use the model to estimate the time it takes for the Starlight to travel between these two cities.  \n",
    "**Ans:**    \n",
    "$y_hat = 50.6 + 0.73 * 103 \\approx 125$, 125 minutes.    \n",
    "\n",
    "(e) It actually takes the Coast Starlight about 168 mins to travel from Santa Barbara to Los Angeles. Calculate the residual and explain the meaning of this residual value.    \n",
    "**Ans:**    \n",
    "$e = observed - fit = 168 - 125 = 43$, the model underestimates the travel time from Santa Barbara to LA.   \n",
    "\n",
    "\n",
    "(f) Suppose Amtrak is considering adding a stop to the Coast Starlight 500 miles away from Los Angeles. Would it be appropriate to use this linear model to predict the travel time from Los Angeles to this point?  \n",
    "**Ans:**    \n",
    "no, since 500 exceed the range of our data, the linear model will be unrealiable to predict data that was never seen before. "
   ]
  },
  {
   "cell_type": "code",
   "execution_count": 11,
   "id": "c8107bd9",
   "metadata": {},
   "outputs": [],
   "source": [
    "y_bar = 129\n",
    "s_y = 113\n",
    "x_bar = 108\n",
    "s_x = 99\n",
    "r = 0.636\n"
   ]
  },
  {
   "cell_type": "code",
   "execution_count": 13,
   "id": "bfb1691f",
   "metadata": {},
   "outputs": [
    {
     "name": "stdout",
     "output_type": "stream",
     "text": [
      "[50.598545454545444, 0.725939393939394]\n"
     ]
    }
   ],
   "source": [
    "b1 = s_y/s_x*r\n",
    "b0 = y_bar - b1 *x_bar\n",
    "print([b0,b1])"
   ]
  },
  {
   "cell_type": "code",
   "execution_count": 15,
   "id": "62e13691",
   "metadata": {},
   "outputs": [
    {
     "name": "stdout",
     "output_type": "stream",
     "text": [
      "0.404496\n"
     ]
    }
   ],
   "source": [
    "r2 = r * r\n",
    "print(r2)"
   ]
  },
  {
   "cell_type": "code",
   "execution_count": 16,
   "id": "006bf003",
   "metadata": {},
   "outputs": [
    {
     "name": "stdout",
     "output_type": "stream",
     "text": [
      "125.37030303030302\n"
     ]
    }
   ],
   "source": [
    "x = 103\n",
    "y_hat = b0 + b1 * x\n",
    "print(y_hat)"
   ]
  },
  {
   "cell_type": "markdown",
   "id": "974ea225",
   "metadata": {},
   "source": [
    "**7.37 Husbands and wives, Part II.** The scatterplot below summarizes husbands’ and wives’ heights in a random sample of 170 married couples in Britain, where both partners’ ages are below 65 years. Summary output of the least squares fit for predicting wife’s height from husband’s height is also provided in the table.  \n",
    "(a) Is there strong evidence that taller men marry taller women? State the hypotheses and include any information used to conduct the test.  \n",
    "**Ans:**   \n",
    "the scatter plot shows a moderate linear relationship between husband's height and wife's height.  One could least squares line and conduct hypothesis test on the slope to further verify the relationship between the two.  \n",
    "conditions to use least squares line:  \n",
    "independent: it random sample and less than 10% population.  \n",
    "constant variance: based from the scatter plot, there is no obvious violation, fan shape data is not observed here. zero.  \n",
    "linearity: the scatter plot shows moderate linear relationship between the two.  \n",
    "residual follow normal distribution: need to check the residual plot after fitting the line. \n",
    " \n",
    "(b) Write the equation of the regression line for predicting wife’s height from husband’s height.  \n",
    "**Ans:**   \n",
    "$\\hat{wife's\\;height=} = 43.5755 + 0.2863 \\times husband's\\;height$    \n",
    "\n",
    "(c) Interpret the slope and intercept in the context of the application.    \n",
    "**Ans:**   \n",
    "intercept do not have valuable meaning in this context but the height of the line. the average height of wife is expected to be 0.2863 inches taller when husband's height increases by 1 inches.  \n",
    "\n",
    "(d) Given that R2 = 0.09, what is the correlation of heights in this data set?  \n",
    "**Ans:** \n",
    "r = 0.3. \n",
    "\n",
    "(e) You meet a married man from Britain who is 5’9” (69 inches). What would you predict his\n",
    "wife’s height to be? How reliable is this prediction?  \n",
    "**Ans:** \n",
    "63.3302 inches. Since 69 inches is within the current data range, the model's output seems to be reasonable\n",
    "<span style=\"color:red\">sinde $R^2$ OS ;NO, THE PREDICTION BASED ON THIS REGRESSION MODEL IS NOT VERY RELIABLE</span>   \n",
    "\n",
    "(f) You meet another married man from Britain who is 6’7” (79 inches). Would it be wise to use\n",
    "the same linear model to predict his wife’s height? Why or why not?  \n",
    "**Ans:**   \n",
    "66.1931. Since 79 inches is horizontally far from the center of the data and it is not being seen by the model during the training, apply model on some unseen value is risky, the prediction of the model may not be realiable. <span style=\"color:red\">ADDITION notes, this is called extrapolating</span>   "
   ]
  },
  {
   "cell_type": "code",
   "execution_count": 22,
   "id": "505b91a7",
   "metadata": {},
   "outputs": [
    {
     "name": "stdout",
     "output_type": "stream",
     "text": [
      "63.3302\n"
     ]
    }
   ],
   "source": [
    "b0 = 43.5755\n",
    "b1=0.2863\n",
    "x = 69\n",
    "y = b0 + b1 * x\n",
    "print(y)"
   ]
  },
  {
   "cell_type": "markdown",
   "id": "5011eff6",
   "metadata": {},
   "source": [
    "**7.39 Urban homeowners, Part II.** Exercise 7.33 gives a scatterplot displaying the rela-tionship between the percent of families that own their home and the percent of the population living in urban areas. Below is a similar scatterplot, excluding District of Columbia, as well as the residuals plot. There were 51 cases.  \n",
    "(a) For these data, R2 = 0.28. What is the correlation? How can you tell if it is positive or negative?  \n",
    "**Ans:**   r = -0.5292. \n",
    "\n",
    "(b) Examine the residual plot. What do you observe? Is a simple least squares fit appropriate for these data?  \n",
    "**Ans:**   \n",
    "the residual plot has a fan shape indicating non-constant variace. simple least squares fit may not be appropiate here. "
   ]
  },
  {
   "cell_type": "code",
   "execution_count": 23,
   "id": "64aa6029",
   "metadata": {},
   "outputs": [
    {
     "data": {
      "text/plain": [
       "0.5291502622129182"
      ]
     },
     "execution_count": 23,
     "metadata": {},
     "output_type": "execute_result"
    }
   ],
   "source": [
    "import numpy as np\n",
    "np.sqrt(0.28)"
   ]
  },
  {
   "cell_type": "markdown",
   "id": "fa21771b",
   "metadata": {},
   "source": [
    "**7.41 Murders and poverty, Part II.** Exercise 7.29 presents regression output from a model for predicting annual murders per million from percentage living in poverty based on a random sample of 20 metropolitan areas. The model output is also provided below.  \n",
    "(a) What are the hypotheses for evaluating whether poverty percentage is a significant predictor of murder rate?  \n",
    "**Ans:**   \n",
    "h_0: the slope is zero indicating poverty% and number of murders do not have linear relationship.  \n",
    "h_a: the slope is not zero indicating proverty% and number of murders has statistical significant linear relationship.  \n",
    "\n",
    "(b) State the conclusion of the hypothesis test from part (a) in context of the data.  \n",
    "**Ans:**  \n",
    "given the p-value of the slope is 0, it is in favor of the alternative hypothesis that proverty% and number of murders has significant linear relationship.  \n",
    "\n",
    "(c) Calculate a 95% confidence interval for the slope of poverty percentage, and interpret it in\n",
    "context of the data.  \n",
    "**Ans:** \n",
    "[1.7396, 3.3784]. we are 95% confidence that $\\beta_1$ is between 1.7396 and 3.3784.  \n",
    "\n",
    "(d) Do your results from the hypothesis test and the confidence interval agree? Explain.  \n",
    "**Ans:** \n",
    "yes. the CI do not include zero, which agrees with the significant hypothesis test results."
   ]
  },
  {
   "cell_type": "code",
   "execution_count": 25,
   "id": "28b56cd8",
   "metadata": {},
   "outputs": [
    {
     "name": "stdout",
     "output_type": "stream",
     "text": [
      "[1.7396404043060256, 3.3783595956939747]\n"
     ]
    }
   ],
   "source": [
    "b1 = 2.559\n",
    "se = 0.390\n",
    "t_critical = scipy.stats.t.ppf(0.975, 18)\n",
    "margin_err = t_critical * se\n",
    "print([b1 - margin_err, b1 + margin_err])"
   ]
  },
  {
   "cell_type": "markdown",
   "id": "1ceaf223",
   "metadata": {},
   "source": [
    "**7.43 Murders and poverty, Part III.** In Exercises 7.41 you evaluated whether poverty percentage is a significant predictor of murder rate. How, if at all, would your answer change if we wanted to find out whether poverty percentage is positively associated with murder rate. Make sure to include the appropriate p-value for this hypothesis test in your answer.  \n",
    "**Ans:** \n",
    "my answer remains the same. p-value of the slope for one-sided test is 1/2 of the two-sided test, so the p-value is even smaller for the one-sided test."
   ]
  },
  {
   "cell_type": "code",
   "execution_count": 8,
   "id": "b038abdf",
   "metadata": {},
   "outputs": [
    {
     "data": {
      "text/plain": [
       "0.951874501462377"
      ]
     },
     "execution_count": 8,
     "metadata": {},
     "output_type": "execute_result"
    }
   ],
   "source": [
    "(3.008/24 - 0.006)/(3.0088/24)"
   ]
  },
  {
   "cell_type": "code",
   "execution_count": 9,
   "id": "56e97e92",
   "metadata": {},
   "outputs": [
    {
     "data": {
      "text/plain": [
       "2.059538552753294"
      ]
     },
     "execution_count": 9,
     "metadata": {},
     "output_type": "execute_result"
    }
   ],
   "source": [
    "import scipy\n",
    "scipy.stats.t.ppf(0.975, 25)"
   ]
  },
  {
   "cell_type": "code",
   "execution_count": 10,
   "id": "7cbabda8",
   "metadata": {},
   "outputs": [
    {
     "data": {
      "text/plain": [
       "0.7690232666038134"
      ]
     },
     "execution_count": 10,
     "metadata": {},
     "output_type": "execute_result"
    }
   ],
   "source": [
    "t = 6724.66/26\n",
    "e = 59.74\n",
    "(t-e)/t"
   ]
  },
  {
   "cell_type": "code",
   "execution_count": 19,
   "id": "eac84340",
   "metadata": {},
   "outputs": [
    {
     "data": {
      "text/plain": [
       "0.3"
      ]
     },
     "execution_count": 19,
     "metadata": {},
     "output_type": "execute_result"
    }
   ],
   "source": [
    "import numpy as np\n",
    "np.sqrt(0.09)"
   ]
  },
  {
   "cell_type": "code",
   "execution_count": 26,
   "id": "789acc07",
   "metadata": {},
   "outputs": [
    {
     "data": {
      "text/plain": [
       "0.8372250000000001"
      ]
     },
     "execution_count": 26,
     "metadata": {},
     "output_type": "execute_result"
    }
   ],
   "source": [
    "0.915*0.915"
   ]
  },
  {
   "cell_type": "code",
   "execution_count": 28,
   "id": "43726fc2",
   "metadata": {},
   "outputs": [
    {
     "data": {
      "text/plain": [
       "1.9697743954258793"
      ]
     },
     "execution_count": 28,
     "metadata": {},
     "output_type": "execute_result"
    }
   ],
   "source": [
    "import scipy\n",
    "scipy.stats.t.ppf(0.975, 243)"
   ]
  },
  {
   "cell_type": "code",
   "execution_count": 29,
   "id": "3f4c199f",
   "metadata": {},
   "outputs": [
    {
     "data": {
      "text/plain": [
       "1.0083199999999999"
      ]
     },
     "execution_count": 29,
     "metadata": {},
     "output_type": "execute_result"
    }
   ],
   "source": [
    "1.96*0.067+0.877"
   ]
  },
  {
   "cell_type": "code",
   "execution_count": null,
   "id": "7ede33ca",
   "metadata": {},
   "outputs": [],
   "source": [
    "goog"
   ]
  }
 ],
 "metadata": {
  "kernelspec": {
   "display_name": "Python (realestate_env)",
   "language": "python",
   "name": "realestate_env"
  },
  "language_info": {
   "codemirror_mode": {
    "name": "ipython",
    "version": 3
   },
   "file_extension": ".py",
   "mimetype": "text/x-python",
   "name": "python",
   "nbconvert_exporter": "python",
   "pygments_lexer": "ipython3",
   "version": "3.11.4"
  }
 },
 "nbformat": 4,
 "nbformat_minor": 5
}
