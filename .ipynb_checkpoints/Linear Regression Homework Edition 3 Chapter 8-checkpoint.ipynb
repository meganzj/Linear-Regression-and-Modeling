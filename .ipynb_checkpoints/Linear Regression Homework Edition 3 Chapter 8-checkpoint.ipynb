{
 "cells": [
  {
   "cell_type": "markdown",
   "id": "fc558410",
   "metadata": {},
   "source": [
    "Regression with multiple predictors: 8.1, 8.3"
   ]
  },
  {
   "cell_type": "markdown",
   "id": "74be6c1b",
   "metadata": {},
   "source": [
    "**8.1 Baby weights, Part I.** The Child Health and Development Studies investigate a range of topics. One study considered all pregnancies between 1960 and 1967 among women in the Kaiser Foundation Health Plan in the San Francisco East Bay area. Here, we study the relationship between smoking and weight of the baby. The variable smoke is coded 1 if the mother is a smoker, and 0 if not. The summary table below shows the results of a linear regression model for predicting the average birth weight of babies, measured in ounces, based on the smoking status of the mother.The variability within the smokers and non-smokers are about equal and the distributions are symmetric. With these conditions satisfied, it is reasonable to apply the model. (Note that we don’t need to check linearity since the predictor has only two levels.)  \n",
    "(a) Write the equation of the regression line.  \n",
    "**Ans:**  $\\hat{weight}_{baby} = 123.05 - 8.94 \\times smoke_{ind}$. \n",
    "\n",
    "(b) Interpret the slope in this context, and calculate the predicted birth weight of babies born to\n",
    "smoker and non-smoker mothers.  \n",
    "**Ans:** average birth weight of babies from mother who smokes would be 8.94 less than the weight of babies from mother who does not smoke on average. \n",
    "predicted birth weight of babies born to smoker mothers = 123.05-8.94 = 114.11. \n",
    "predicted birth weight of babies born to non-smoker mothers = 123.05.   \n",
    "\n",
    "(c) Is there a statistically significant relationship between the average birth weight and smoking?  \n",
    "**Ans:**   \n",
    "yes, since the p-value of smoke is 0, indicating smoke statisticsly significant in explaining the variation in birth weight of babies.   "
   ]
  },
  {
   "cell_type": "code",
   "execution_count": 1,
   "id": "6a9b241d",
   "metadata": {},
   "outputs": [
    {
     "data": {
      "text/plain": [
       "114.11"
      ]
     },
     "execution_count": 1,
     "metadata": {},
     "output_type": "execute_result"
    }
   ],
   "source": [
    "123.05-8.94"
   ]
  },
  {
   "cell_type": "markdown",
   "id": "f18724b5",
   "metadata": {},
   "source": [
    "**8.3 Baby weights, Part III.** We considered the variables smoke and parity, one at a time, in modeling birth weights of babies in Exercises 8.1 and 8.2. A more realistic approach to modeling infant weights is to consider all possibly related variables at once. Other variables of interest include length of pregnancy in days (gestation), mother’s age in years (age), mother’s height in inches (height), and mother’s pregnancy weight in pounds (weight). Below are three observations from this data set.The summary table below shows the results of a regression model for predicting the average birth weight of babies based on all of the variables included in the data  \n",
    "(a) Write the equation of the regression line that includes all of the variables.  \n",
    "**Ans:**   \n",
    "$\\hat{weight}_{baby} = -80.41 + 0.44 \\times gestation - 3.33 \\times parity -0.01 \\times age + 1.15 \\times height + 0.05 \\times weight - 8.4 \\times smoke$\n",
    "\n",
    "(b) Interpret the slopes of gestation and age in this context.  \n",
    "**Ans:** \n",
    "holding other variables unchanged, average birth weight of baby increase 0.44 ounces when pregancy in days increase by 1 day.  \n",
    "holding other variables unchanged, average birth weight of baby decreases 0.01 ounces when mother's age increase by 1 year.  \n",
    "\n",
    "(c) The coefficient for parity is different than in the linear model shown in Exercise 8.2. Why might there be a difference?  \n",
    "**Ans:**  another variable that is correlated with parity is now explicitly included in the model, in exercise 9.2, the coefficient is probably implying a mixing effect but here, the mixing effect has been splited by including the other variables in the mode.  \n",
    "\n",
    "(d) Calculate the residual for the first observation in the data set.**Ans:**   -0.58 ounces. \n",
    "\n",
    "(e) The variance of the residuals is 249.28, and the variance of the birth weights of all babies\n",
    "in the data set is 332.57. Calculate the R2 and the adjusted R2. Note that there are 1,236 observations in the data set.  \n",
    "**Ans:** $R^2 = 1 - \\frac{SSE}{SST} = 1 - \\frac{249.28}{332.57} \\approx 0.25$  \n",
    "$adjust R^2 = 1 - \\frac{SSE/(1236-6-1)}{SST/(1236-1)} = 1 - \\frac{249.28/(1229)}{332.57/1235} \\approx 0.2468                                                                                                                                                                                                                                                                                                                                                                                                                                                                                                                                                                                                                                                                       $  \n",
    "\n"
   ]
  },
  {
   "cell_type": "code",
   "execution_count": 3,
   "id": "20c97540",
   "metadata": {},
   "outputs": [
    {
     "name": "stdout",
     "output_type": "stream",
     "text": [
      "[120, -0.5799999999999841]\n"
     ]
    }
   ],
   "source": [
    "gestation = 284; parity = 0; age = 27;height = 62;weight = 100; smoke = 0\n",
    "w_hat= -80.41 + 0.44 * gestation - 3.33 * parity -0.01 * age + 1.15 * height + 0.05 * weight - 8.4 * smoke\n",
    "#print(w)\n",
    "w_1 = 120\n",
    "e_1 = w_1 - w_hat\n",
    "print([w_1, e_1])"
   ]
  },
  {
   "cell_type": "code",
   "execution_count": 4,
   "id": "ec2b0b8b",
   "metadata": {},
   "outputs": [
    {
     "data": {
      "text/plain": [
       "0.25044351565084044"
      ]
     },
     "execution_count": 4,
     "metadata": {},
     "output_type": "execute_result"
    }
   ],
   "source": [
    "1 - 249.28/332.57"
   ]
  },
  {
   "cell_type": "code",
   "execution_count": 9,
   "id": "009a95a5",
   "metadata": {},
   "outputs": [
    {
     "data": {
      "text/plain": [
       "0.2467841674766379"
      ]
     },
     "execution_count": 9,
     "metadata": {},
     "output_type": "execute_result"
    }
   ],
   "source": [
    "1 - 249.28/332.57 * (1235/1229)"
   ]
  },
  {
   "cell_type": "markdown",
   "id": "da86e5fd",
   "metadata": {},
   "source": [
    "**8.5 GPA.** A survey of 55 Duke University students asked about their GPA, number of hours they study at night, number of nights they go out, and their gender. Summary output of the regression model is shown below. Note that male is coded as 1.  \n",
    "\n",
    "(a) Calculate a 95% confidence interval for the coefficient of gender in the model, and interpret it in the context of the data.  \n",
    "[-0.32,0.16]. holding other variables unchanged, the average difference in GPA between male and female students is between -0.32 and 0.16.  \n",
    "\n",
    "(b) Would you expect a 95% confidence interval for the slope of the remaining variables to include 0? Explain\n",
    "yes, since p-value of remaining variables are all large, indicating 95%CI would include 0. "
   ]
  },
  {
   "cell_type": "code",
   "execution_count": 8,
   "id": "c7003d41",
   "metadata": {},
   "outputs": [
    {
     "name": "stdout",
     "output_type": "stream",
     "text": [
      "[-0.3210270931658247, 0.1610270931658247]\n"
     ]
    }
   ],
   "source": [
    "import scipy\n",
    "n = 55; k = 4\n",
    "df = n-k-1\n",
    "t_critical = scipy.stats.t.ppf(0.975, df)\n",
    "se_gender = 0.12\n",
    "b_gender = -0.08\n",
    "margin_err = t_critical * se_gender\n",
    "print([b_gender - margin_err, b_gender + margin_err])"
   ]
  },
  {
   "cell_type": "markdown",
   "id": "be24fc9a",
   "metadata": {},
   "source": [
    "**8.7 Baby weights, Part IV.** Exercise 8.3 considers a model that predicts a newborn’s weight using several predictors (gestation length, parity, age of mother, height of mother, weight of mother, smoking status of mother). The table below shows the adjusted R-squared for the full model as well as adjusted R-squared values for all models we evaluate in the first step of the backwards elimination process.Which, if any, variable should be removed from the model first? **Ans:** Age"
   ]
  },
  {
   "cell_type": "markdown",
   "id": "6cf2a3c5",
   "metadata": {},
   "source": [
    "**8.9 Baby weights, Part V.** Exercise 8.3 provides regression output for the full model (including all explanatory variables available in the data set) for predicting birth weight of babies. In this exercise we consider a forward-selection algorithm and add variables to the model one-at-a-time. The table below shows the p-value and adjusted R2 of each model where we include only the corresponding predictor. Based on this table, which variable should be added to the model first? **Ans:** gestation"
   ]
  },
  {
   "cell_type": "markdown",
   "id": "cbb2bf78",
   "metadata": {},
   "source": [
    "**8.11 Movie lovers, Part I.** Suppose a social scientist is interested in studying what makes audiences love or hate a movie. She collects a random sample of movies (genre, length, cast, director, budget, etc.) as well as a measure of the success of the movie (score on a film review aggregator website). If as part of her research she is interested in finding out which variables are significant predictors of movie success, what type of model selection method should she use? \n",
    "**Ans:** p-value based model selections. likely start with full model and remove insignificant predictors with large p-value in each iteration and rerun the model until all the remaining predictors have significant p-value "
   ]
  },
  {
   "cell_type": "markdown",
   "id": "78d01949",
   "metadata": {},
   "source": [
    "**8.13 Baby weights, Part V.** Exercise 8.3 presents a regression model for predicting the average birth weight of babies based on length of gestation, parity, height, weight, and smoking status of the mother. Determine if the model assumptions are met using the plots below. If not, describe how to proceed with the analysis.  \n",
    "**Ans:** \n",
    "qq plot indicate residuals is not obviously deviate from normality; residuals vs. fitted values shows a pretty random pattern with no obvious fan shape or wave cure indivated linearity of the model likely capture the relationship between y and Xs. residuals vs. order of collection appears to be random indicating residuals do not correlated in time sequence. residuals vs. gestations show relatively random pattern indicating constant variace across various value of gestation. parity only have two levels and the varibility in Y is slightly different between the two levels, something to note here. residuals vs. mother height also show different variability in Y given different height. resiguals vs. mother's weight also appears to be random. residuals vs. smoke the variability in y appears to be similary between the two level. "
   ]
  },
  {
   "cell_type": "code",
   "execution_count": null,
   "id": "c9bec19b",
   "metadata": {},
   "outputs": [],
   "source": []
  }
 ],
 "metadata": {
  "kernelspec": {
   "display_name": "Python (realestate_env)",
   "language": "python",
   "name": "realestate_env"
  },
  "language_info": {
   "codemirror_mode": {
    "name": "ipython",
    "version": 3
   },
   "file_extension": ".py",
   "mimetype": "text/x-python",
   "name": "python",
   "nbconvert_exporter": "python",
   "pygments_lexer": "ipython3",
   "version": "3.11.4"
  }
 },
 "nbformat": 4,
 "nbformat_minor": 5
}
