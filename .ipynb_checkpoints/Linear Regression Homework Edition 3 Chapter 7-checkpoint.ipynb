{
 "cells": [
  {
   "cell_type": "markdown",
   "id": "1ecedf37",
   "metadata": {},
   "source": [
    "Relationship between two numerical variables: 7.1, 7.3, 7.7, 7.9, 7.11, 7.13, 7.15"
   ]
  },
  {
   "cell_type": "markdown",
   "id": "1fba040a",
   "metadata": {},
   "source": [
    "**7.1 Visualize the residuals.** The scatterplots shown below each have a superimposed regression line. If we were to construct a residual plot (residuals versus x) for each, describe what those plots would look like.  \n",
    "**Ans:**  \n",
    "plot(a) would have random points spreed across the middle line and most of the points will be stay relatively close to the middle line.  \n",
    "plot(b) would also have points spreed across the middle line, however, the points would be more spreed out and start to gather closer to the middle line as x increase. \n"
   ]
  },
  {
   "cell_type": "markdown",
   "id": "59b0472e",
   "metadata": {},
   "source": [
    "**7.3 Identify relationships, Part I.** For each of the six plots, identify the strength of the relationship (e.g. weak, moderate, or strong) in the data and whether fitting a linear model would be reasonable.  \n",
    "**Ans:**  \n",
    "a. strong relationship, but linear model would not be reasonable.  \n",
    "b. strong relationship, linear model is reasonable.  \n",
    "c. weak relationship, linear model could be an option. \n",
    "d. moderate relationship, linear model would not be reasonable.  \n",
    "e. strong relationship, linear model is reasonable.  \n",
    "f. weak relationship, linear model could be an option to try.  "
   ]
  },
  {
   "cell_type": "markdown",
   "id": "b93b393d",
   "metadata": {},
   "source": [
    "**7.7 Match the correlation, Part I.** Match the calculated correlations to the corresponding scatterplot.  \n",
    "**Ans:**  \n",
    "a -> 4. \n",
    "b -> 3. \n",
    "c -> 1. \n",
    "d -> 2"
   ]
  },
  {
   "cell_type": "markdown",
   "id": "b4e033e1",
   "metadata": {},
   "source": [
    "**7.9 True / False.** Determine if the following statements are true or false. If false, explain why.  \n",
    "A correlation coefficient of -0.90 indicates a stronger linear relationship than a correlation coefficient of 0.5. **True**.   \n",
    "Correlation is a measure of the association between any two variables.  **False. it measures linear relationship between two numerical variables**"
   ]
  },
  {
   "cell_type": "markdown",
   "id": "d7c7c273",
   "metadata": {},
   "source": [
    "**7.11 Speed and height.** 1,302 UCLA students were asked to fill out a survey where they were asked about their height, fastest speed they have ever driven, and gender. The scatterplot on the left displays the relationship between height and fastest speed, and the scatterplot on the right displays the breakdown by gender in this relationship.  \n",
    "**Ans:**  \n",
    "(a) Describe the relationship between height and fastest speed.   \n",
    "a moderate positive linear relationship between height and fastest speed.  \n",
    "\n",
    "(b) Why do you think these variables are positively associated?  \n",
    "the fastest speed tends to be higher as Height increases.  \n",
    "\n",
    "(c) What role does gender play in the relationship between height and fastest driving speed?  \n",
    "male tend to drive faster than female, who also tend to be taller. the different tendency between gender in speed is a more reasonable explaination as compared to purely associating height with driving speed."
   ]
  },
  {
   "cell_type": "markdown",
   "id": "bdda5d70",
   "metadata": {},
   "source": [
    "**7.13 The Coast Starlight, Part I.** The Coast Starlight Amtrak train runs from Seattle to Los Angeles. The scatterplot below displays the distance between each stop (in miles) and the amount of time it takes to travel from one stop to another (in minutes).  \n",
    "**Ans:**  \n",
    "(a) Describe the relationship between distance and travel time.  \n",
    "moderate positive linear relationship  \n",
    "\n",
    "(b) How would the relationship change if travel time was instead measured in hours, and distance was instead measured in kilometers?  \n",
    "the relationship would not change with the change of unit in variables in correlation coefficient.  \n",
    "\n",
    "(c) Correlation between travel time (in miles) and distance (in minutes) is r = 0.636. What is the correlation\n",
    "between travel time (in kilometers) 60 and distance (in hours)?    \n",
    "0.636"
   ]
  },
  {
   "cell_type": "markdown",
   "id": "e0d7d0d0",
   "metadata": {},
   "source": [
    "**7.15 Body measurements, Part I.** Researchers studying anthropometry collected body girth measurements and skeletal diameter measurements, as well as age, weight, height and gender for 507 physically active individuals.19 The scatterplot below shows the relationship between height and shoulder girth (over deltoid muscles), both measured in centimeters.  \n",
    "\n",
    "**Ans:**  \n",
    "(a) Describe the relationship between shoulder girth and height.  \n",
    "positive linear relationship. \n",
    "\n",
    "(b) How would the relationship change if shoulder girth was measured in inches while the units of height remained in centimeters?  \n",
    "won't change the relationship.  "
   ]
  },
  {
   "cell_type": "markdown",
   "id": "1ed49177",
   "metadata": {},
   "source": [
    "A teaching assistant gives a quiz. There are 10 questions on the quiz and no partial credit is given. After grading the papers the TA writes down for each student the number of questions the student got right and the number wrong. What is the correlation of the number of questions right and wrong? Hint: Make up some data for number of questions right, calculate number of questions wrong, and plot them against each other.   \n",
    "\n",
    "**Ans:** \n",
    "R = -1, strong negative linear relationship."
   ]
  },
  {
   "cell_type": "markdown",
   "id": "bb6f7074",
   "metadata": {},
   "source": [
    "Suppose you fit a linear regression model predicting score on an exam from number of hours studied. Say you've studied for 4 hours. Would you prefer to be on the line, below the line, or above the line? What would the residual for your score be (0, negative, or positive)?  \n",
    "**Ans:** \n",
    "I would prefer to be above the line, which indicates my score is higher than the average score of people who study the same hours as I am. my residual would be positive, the linear line would underestimate my score. "
   ]
  },
  {
   "cell_type": "markdown",
   "id": "a022948f",
   "metadata": {},
   "source": [
    "Someone hands you the scatter diagram shown below, but has forgotten to label the axes. Can you calculate the correlation coefficient? Or do you need the labels?   \n",
    "**Ans:**   \n",
    "i can calculate the correlation coefficient without the labe of axes.  "
   ]
  },
  {
   "cell_type": "markdown",
   "id": "81d10cb3",
   "metadata": {},
   "source": [
    "We would not want to fit a least squares line to the data shown in the scatterplot below. Which of the conditions does it appear to violate?   \n",
    "**Ans:** \n",
    "if we fit a least squares line, the data do not have constant varibility around the fitted line.  "
   ]
  },
  {
   "cell_type": "markdown",
   "id": "826ece9b",
   "metadata": {},
   "source": [
    "One study on male college students found their average height to be 70 inches with a standard deviation of 2 inches. Their average weight was 140 pounds, with a standard deviation of 25 pounds. The correlation between their height and weight was 0.60. Assuming that the two variables are linearly associated, write the linear model for predicting weight from height.    \n",
    "**Ans:**   \n",
    "$$b_1 = \\frac{s_y}{s_x}R = frac{25}{2}0.6 = 7.5$$\n",
    "$$b_0 = \\bar{y} - b_1*\\bar{x} = 140 - 7.5*70 = -385$$"
   ]
  },
  {
   "cell_type": "code",
   "execution_count": 5,
   "id": "9858742f",
   "metadata": {},
   "outputs": [
    {
     "name": "stdout",
     "output_type": "stream",
     "text": [
      "[-385.0, 7.5]\n"
     ]
    }
   ],
   "source": [
    "r = 0.6\n",
    "s_x = 2\n",
    "s_y = 25\n",
    "b1 = s_y/s_x*r\n",
    "x_bar = 70\n",
    "y_bar = 140\n",
    "b0 = y_bar - b1 * x_bar\n",
    "print([b0,b1])"
   ]
  },
  {
   "cell_type": "markdown",
   "id": "d486f7c8",
   "metadata": {},
   "source": [
    "Is a male who is 72 inches tall and who weighs 115 pounds on the line, below the line, or above the line?  \n",
    "**Ans:**  \n",
    "$$\\hat{weight} = -385 + 7.5 * height$$\n",
    "$$\\hat{y} = -385+7.5*72 = 155$$. \n",
    "overestimate, the data point is below the line."
   ]
  },
  {
   "cell_type": "code",
   "execution_count": 6,
   "id": "48b1359d",
   "metadata": {},
   "outputs": [
    {
     "data": {
      "text/plain": [
       "-40.0"
      ]
     },
     "execution_count": 6,
     "metadata": {},
     "output_type": "execute_result"
    }
   ],
   "source": [
    "y_hat = -385+7.5*72\n",
    "y_obs = 115\n",
    "y_obs - y_hat"
   ]
  },
  {
   "cell_type": "markdown",
   "id": "75ee7b19",
   "metadata": {},
   "source": [
    "Describe what is an indicator variable, and what levels 0 and 1 mean for such variables.  \n",
    "**Ans:**  \n",
    "indicator variable is a numerical conversion of categorical variables in the linear regression mode. with two level categorical variable, one level would be converted to 0, the other would be 1. 0 would be the reference level and not be present in the regression model.  the coefficient associated with the indicator variable (1) is interprated as the average difference in y when the indicator variable is 1 relative to when indicator variable is 0. "
   ]
  },
  {
   "cell_type": "markdown",
   "id": "cda878ef",
   "metadata": {},
   "source": [
    "If the correlation between two variables y and x is 0.6, what percent of the variability in y does x explain?  \n",
    "**Ans:**  \n",
    "r = 0.6\n",
    "$R^2 = 0.6*0.6=0.36$. \n",
    "36% of variability in y is explained by x."
   ]
  },
  {
   "cell_type": "markdown",
   "id": "7e598db9",
   "metadata": {},
   "source": [
    "The model below predicts GPA based on an indicator variable (0: not premed, 1: premed). Interpret the intercept and slope estimates in context of the data.</em>\n",
    "$$\\hat{gpa} = 3.57-0.01 \\times premed$$\n",
    "**Ans:**  the average GPA for not premed student is 3.57,  the average GPA for premed student is 3.56. So the daverage difference in GPA between premed and not premed student is -0.01."
   ]
  },
  {
   "cell_type": "code",
   "execution_count": null,
   "id": "01fd8edf",
   "metadata": {},
   "outputs": [],
   "source": []
  }
 ],
 "metadata": {
  "kernelspec": {
   "display_name": "Python (realestate_env)",
   "language": "python",
   "name": "realestate_env"
  },
  "language_info": {
   "codemirror_mode": {
    "name": "ipython",
    "version": 3
   },
   "file_extension": ".py",
   "mimetype": "text/x-python",
   "name": "python",
   "nbconvert_exporter": "python",
   "pygments_lexer": "ipython3",
   "version": "3.11.4"
  }
 },
 "nbformat": 4,
 "nbformat_minor": 5
}
